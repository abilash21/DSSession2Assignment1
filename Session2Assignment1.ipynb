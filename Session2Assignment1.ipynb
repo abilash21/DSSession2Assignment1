{
 "cells": [
  {
   "cell_type": "code",
   "execution_count": 1,
   "metadata": {},
   "outputs": [
    {
     "name": "stdout",
     "output_type": "stream",
     "text": [
      "Enter comma seperated valuea,b,c,d,e,f\n",
      "Type of outputlist is: <class 'list'>\n",
      "['a', 'b', 'c', 'd', 'e', 'f']\n"
     ]
    }
   ],
   "source": [
    "data = input(\"Enter comma seperated value\") #Get user input\n",
    "outputlist = list()    #Create an empty list\n",
    "outputlist=data.split(\",\")  #Split the input recieved using comma \n",
    "print(\"Type of outputlist is:\", type(outputlist)) #check type\n",
    "print(outputlist) # Type"
   ]
  },
  {
   "cell_type": "code",
   "execution_count": null,
   "metadata": {
    "collapsed": true
   },
   "outputs": [],
   "source": []
  }
 ],
 "metadata": {
  "kernelspec": {
   "display_name": "Python 3",
   "language": "python",
   "name": "python3"
  },
  "language_info": {
   "codemirror_mode": {
    "name": "ipython",
    "version": 3
   },
   "file_extension": ".py",
   "mimetype": "text/x-python",
   "name": "python",
   "nbconvert_exporter": "python",
   "pygments_lexer": "ipython3",
   "version": "3.6.3"
  }
 },
 "nbformat": 4,
 "nbformat_minor": 2
}
